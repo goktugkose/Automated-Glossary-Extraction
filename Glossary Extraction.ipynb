{
  "nbformat": 4,
  "nbformat_minor": 0,
  "metadata": {
    "colab": {
      "name": "Thesis_Heuristics_temp.ipynb",
      "provenance": [],
      "collapsed_sections": []
    },
    "kernelspec": {
      "name": "python3",
      "display_name": "Python 3.9.1 64-bit"
    },
    "language_info": {
      "name": "python",
      "version": "3.9.1"
    },
    "widgets": {
      "application/vnd.jupyter.widget-state+json": {
        "a46f43d5bfa24366884995f9e94b3d54": {
          "model_module": "@jupyter-widgets/controls",
          "model_name": "HBoxModel",
          "state": {
            "_view_name": "HBoxView",
            "_dom_classes": [],
            "_model_name": "HBoxModel",
            "_view_module": "@jupyter-widgets/controls",
            "_model_module_version": "1.5.0",
            "_view_count": null,
            "_view_module_version": "1.5.0",
            "box_style": "",
            "layout": "IPY_MODEL_ae88a95f43c7475bb38ffedce4cf3921",
            "_model_module": "@jupyter-widgets/controls",
            "children": [
              "IPY_MODEL_a59344f9b94844889a19badbc770c389",
              "IPY_MODEL_7b26a1dd5c9f42d2ba20db976f8cdf88"
            ]
          }
        },
        "ae88a95f43c7475bb38ffedce4cf3921": {
          "model_module": "@jupyter-widgets/base",
          "model_name": "LayoutModel",
          "state": {
            "_view_name": "LayoutView",
            "grid_template_rows": null,
            "right": null,
            "justify_content": null,
            "_view_module": "@jupyter-widgets/base",
            "overflow": null,
            "_model_module_version": "1.2.0",
            "_view_count": null,
            "flex_flow": null,
            "width": null,
            "min_width": null,
            "border": null,
            "align_items": null,
            "bottom": null,
            "_model_module": "@jupyter-widgets/base",
            "top": null,
            "grid_column": null,
            "overflow_y": null,
            "overflow_x": null,
            "grid_auto_flow": null,
            "grid_area": null,
            "grid_template_columns": null,
            "flex": null,
            "_model_name": "LayoutModel",
            "justify_items": null,
            "grid_row": null,
            "max_height": null,
            "align_content": null,
            "visibility": null,
            "align_self": null,
            "height": null,
            "min_height": null,
            "padding": null,
            "grid_auto_rows": null,
            "grid_gap": null,
            "max_width": null,
            "order": null,
            "_view_module_version": "1.2.0",
            "grid_template_areas": null,
            "object_position": null,
            "object_fit": null,
            "grid_auto_columns": null,
            "margin": null,
            "display": null,
            "left": null
          }
        },
        "a59344f9b94844889a19badbc770c389": {
          "model_module": "@jupyter-widgets/controls",
          "model_name": "FloatProgressModel",
          "state": {
            "_view_name": "ProgressView",
            "style": "IPY_MODEL_e3834ad425a942bca7dce47da358a8c1",
            "_dom_classes": [],
            "description": "100%",
            "_model_name": "FloatProgressModel",
            "bar_style": "success",
            "max": 405057617,
            "_view_module": "@jupyter-widgets/controls",
            "_model_module_version": "1.5.0",
            "value": 405057617,
            "_view_count": null,
            "_view_module_version": "1.5.0",
            "orientation": "horizontal",
            "min": 0,
            "description_tooltip": null,
            "_model_module": "@jupyter-widgets/controls",
            "layout": "IPY_MODEL_f2f73204e4bd4fcbb2669e6fc42ebaaf"
          }
        },
        "7b26a1dd5c9f42d2ba20db976f8cdf88": {
          "model_module": "@jupyter-widgets/controls",
          "model_name": "HTMLModel",
          "state": {
            "_view_name": "HTMLView",
            "style": "IPY_MODEL_bae44198a7884f2bb6a806f9b163e5a4",
            "_dom_classes": [],
            "description": "",
            "_model_name": "HTMLModel",
            "placeholder": "​",
            "_view_module": "@jupyter-widgets/controls",
            "_model_module_version": "1.5.0",
            "value": " 405M/405M [00:52&lt;00:00, 7.77MB/s]",
            "_view_count": null,
            "_view_module_version": "1.5.0",
            "description_tooltip": null,
            "_model_module": "@jupyter-widgets/controls",
            "layout": "IPY_MODEL_90905343cde642559bf15191200bc4f0"
          }
        },
        "e3834ad425a942bca7dce47da358a8c1": {
          "model_module": "@jupyter-widgets/controls",
          "model_name": "ProgressStyleModel",
          "state": {
            "_view_name": "StyleView",
            "_model_name": "ProgressStyleModel",
            "description_width": "initial",
            "_view_module": "@jupyter-widgets/base",
            "_model_module_version": "1.5.0",
            "_view_count": null,
            "_view_module_version": "1.2.0",
            "bar_color": null,
            "_model_module": "@jupyter-widgets/controls"
          }
        },
        "f2f73204e4bd4fcbb2669e6fc42ebaaf": {
          "model_module": "@jupyter-widgets/base",
          "model_name": "LayoutModel",
          "state": {
            "_view_name": "LayoutView",
            "grid_template_rows": null,
            "right": null,
            "justify_content": null,
            "_view_module": "@jupyter-widgets/base",
            "overflow": null,
            "_model_module_version": "1.2.0",
            "_view_count": null,
            "flex_flow": null,
            "width": null,
            "min_width": null,
            "border": null,
            "align_items": null,
            "bottom": null,
            "_model_module": "@jupyter-widgets/base",
            "top": null,
            "grid_column": null,
            "overflow_y": null,
            "overflow_x": null,
            "grid_auto_flow": null,
            "grid_area": null,
            "grid_template_columns": null,
            "flex": null,
            "_model_name": "LayoutModel",
            "justify_items": null,
            "grid_row": null,
            "max_height": null,
            "align_content": null,
            "visibility": null,
            "align_self": null,
            "height": null,
            "min_height": null,
            "padding": null,
            "grid_auto_rows": null,
            "grid_gap": null,
            "max_width": null,
            "order": null,
            "_view_module_version": "1.2.0",
            "grid_template_areas": null,
            "object_position": null,
            "object_fit": null,
            "grid_auto_columns": null,
            "margin": null,
            "display": null,
            "left": null
          }
        },
        "bae44198a7884f2bb6a806f9b163e5a4": {
          "model_module": "@jupyter-widgets/controls",
          "model_name": "DescriptionStyleModel",
          "state": {
            "_view_name": "StyleView",
            "_model_name": "DescriptionStyleModel",
            "description_width": "",
            "_view_module": "@jupyter-widgets/base",
            "_model_module_version": "1.5.0",
            "_view_count": null,
            "_view_module_version": "1.2.0",
            "_model_module": "@jupyter-widgets/controls"
          }
        },
        "90905343cde642559bf15191200bc4f0": {
          "model_module": "@jupyter-widgets/base",
          "model_name": "LayoutModel",
          "state": {
            "_view_name": "LayoutView",
            "grid_template_rows": null,
            "right": null,
            "justify_content": null,
            "_view_module": "@jupyter-widgets/base",
            "overflow": null,
            "_model_module_version": "1.2.0",
            "_view_count": null,
            "flex_flow": null,
            "width": null,
            "min_width": null,
            "border": null,
            "align_items": null,
            "bottom": null,
            "_model_module": "@jupyter-widgets/base",
            "top": null,
            "grid_column": null,
            "overflow_y": null,
            "overflow_x": null,
            "grid_auto_flow": null,
            "grid_area": null,
            "grid_template_columns": null,
            "flex": null,
            "_model_name": "LayoutModel",
            "justify_items": null,
            "grid_row": null,
            "max_height": null,
            "align_content": null,
            "visibility": null,
            "align_self": null,
            "height": null,
            "min_height": null,
            "padding": null,
            "grid_auto_rows": null,
            "grid_gap": null,
            "max_width": null,
            "order": null,
            "_view_module_version": "1.2.0",
            "grid_template_areas": null,
            "object_position": null,
            "object_fit": null,
            "grid_auto_columns": null,
            "margin": null,
            "display": null,
            "left": null
          }
        }
      }
    },
    "interpreter": {
      "hash": "ac59ebe37160ed0dfa835113d9b8498d9f09ceb179beaac4002f036b9467c963"
    }
  },
  "cells": [
    {
      "cell_type": "code",
      "metadata": {
        "id": "RWKTv1k46_gV",
        "colab": {
          "base_uri": "https://localhost:8080/"
        },
        "outputId": "76c12313-4e0c-4f42-cf04-157ac77a9488"
      },
      "source": [
        "!pip install -U spacy\n",
        "!python -m spacy download en_core_web_md\n",
        "!pip install sentence_transformers\n",
        "!pip install pyvis\n",
        "!pip install keybert"
      ],
      "execution_count": 1,
      "outputs": [
        {
          "output_type": "stream",
          "text": [
            "Requirement already up-to-date: spacy in /usr/local/lib/python3.7/dist-packages (3.0.6)\n",
            "Requirement already satisfied, skipping upgrade: requests<3.0.0,>=2.13.0 in /usr/local/lib/python3.7/dist-packages (from spacy) (2.23.0)\n",
            "Requirement already satisfied, skipping upgrade: preshed<3.1.0,>=3.0.2 in /usr/local/lib/python3.7/dist-packages (from spacy) (3.0.5)\n",
            "Requirement already satisfied, skipping upgrade: spacy-legacy<3.1.0,>=3.0.4 in /usr/local/lib/python3.7/dist-packages (from spacy) (3.0.6)\n",
            "Requirement already satisfied, skipping upgrade: catalogue<2.1.0,>=2.0.3 in /usr/local/lib/python3.7/dist-packages (from spacy) (2.0.4)\n",
            "Requirement already satisfied, skipping upgrade: jinja2 in /usr/local/lib/python3.7/dist-packages (from spacy) (2.11.3)\n",
            "Requirement already satisfied, skipping upgrade: thinc<8.1.0,>=8.0.3 in /usr/local/lib/python3.7/dist-packages (from spacy) (8.0.5)\n",
            "Requirement already satisfied, skipping upgrade: murmurhash<1.1.0,>=0.28.0 in /usr/local/lib/python3.7/dist-packages (from spacy) (1.0.5)\n",
            "Requirement already satisfied, skipping upgrade: typing-extensions<4.0.0.0,>=3.7.4; python_version < \"3.8\" in /usr/local/lib/python3.7/dist-packages (from spacy) (3.7.4.3)\n",
            "Requirement already satisfied, skipping upgrade: packaging>=20.0 in /usr/local/lib/python3.7/dist-packages (from spacy) (20.9)\n",
            "Requirement already satisfied, skipping upgrade: cymem<2.1.0,>=2.0.2 in /usr/local/lib/python3.7/dist-packages (from spacy) (2.0.5)\n",
            "Requirement already satisfied, skipping upgrade: srsly<3.0.0,>=2.4.1 in /usr/local/lib/python3.7/dist-packages (from spacy) (2.4.1)\n",
            "Requirement already satisfied, skipping upgrade: tqdm<5.0.0,>=4.38.0 in /usr/local/lib/python3.7/dist-packages (from spacy) (4.41.1)\n",
            "Requirement already satisfied, skipping upgrade: wasabi<1.1.0,>=0.8.1 in /usr/local/lib/python3.7/dist-packages (from spacy) (0.8.2)\n",
            "Requirement already satisfied, skipping upgrade: pathy>=0.3.5 in /usr/local/lib/python3.7/dist-packages (from spacy) (0.5.2)\n",
            "Requirement already satisfied, skipping upgrade: blis<0.8.0,>=0.4.0 in /usr/local/lib/python3.7/dist-packages (from spacy) (0.4.1)\n",
            "Requirement already satisfied, skipping upgrade: setuptools in /usr/local/lib/python3.7/dist-packages (from spacy) (57.0.0)\n",
            "Requirement already satisfied, skipping upgrade: typer<0.4.0,>=0.3.0 in /usr/local/lib/python3.7/dist-packages (from spacy) (0.3.2)\n",
            "Requirement already satisfied, skipping upgrade: numpy>=1.15.0 in /usr/local/lib/python3.7/dist-packages (from spacy) (1.19.5)\n",
            "Requirement already satisfied, skipping upgrade: pydantic<1.8.0,>=1.7.1 in /usr/local/lib/python3.7/dist-packages (from spacy) (1.7.4)\n",
            "Requirement already satisfied, skipping upgrade: chardet<4,>=3.0.2 in /usr/local/lib/python3.7/dist-packages (from requests<3.0.0,>=2.13.0->spacy) (3.0.4)\n",
            "Requirement already satisfied, skipping upgrade: idna<3,>=2.5 in /usr/local/lib/python3.7/dist-packages (from requests<3.0.0,>=2.13.0->spacy) (2.10)\n",
            "Requirement already satisfied, skipping upgrade: certifi>=2017.4.17 in /usr/local/lib/python3.7/dist-packages (from requests<3.0.0,>=2.13.0->spacy) (2021.5.30)\n",
            "Requirement already satisfied, skipping upgrade: urllib3!=1.25.0,!=1.25.1,<1.26,>=1.21.1 in /usr/local/lib/python3.7/dist-packages (from requests<3.0.0,>=2.13.0->spacy) (1.24.3)\n",
            "Requirement already satisfied, skipping upgrade: zipp>=0.5; python_version < \"3.8\" in /usr/local/lib/python3.7/dist-packages (from catalogue<2.1.0,>=2.0.3->spacy) (3.4.1)\n",
            "Requirement already satisfied, skipping upgrade: MarkupSafe>=0.23 in /usr/local/lib/python3.7/dist-packages (from jinja2->spacy) (2.0.1)\n",
            "Requirement already satisfied, skipping upgrade: pyparsing>=2.0.2 in /usr/local/lib/python3.7/dist-packages (from packaging>=20.0->spacy) (2.4.7)\n",
            "Requirement already satisfied, skipping upgrade: smart-open<4.0.0,>=2.2.0 in /usr/local/lib/python3.7/dist-packages (from pathy>=0.3.5->spacy) (3.0.0)\n",
            "Requirement already satisfied, skipping upgrade: click<7.2.0,>=7.1.1 in /usr/local/lib/python3.7/dist-packages (from typer<0.4.0,>=0.3.0->spacy) (7.1.2)\n",
            "2021-06-18 19:04:47.816792: I tensorflow/stream_executor/platform/default/dso_loader.cc:53] Successfully opened dynamic library libcudart.so.11.0\n",
            "Requirement already satisfied: en-core-web-md==3.0.0 from https://github.com/explosion/spacy-models/releases/download/en_core_web_md-3.0.0/en_core_web_md-3.0.0-py3-none-any.whl#egg=en_core_web_md==3.0.0 in /usr/local/lib/python3.7/dist-packages (3.0.0)\n",
            "Requirement already satisfied: spacy<3.1.0,>=3.0.0 in /usr/local/lib/python3.7/dist-packages (from en-core-web-md==3.0.0) (3.0.6)\n",
            "Requirement already satisfied: thinc<8.1.0,>=8.0.3 in /usr/local/lib/python3.7/dist-packages (from spacy<3.1.0,>=3.0.0->en-core-web-md==3.0.0) (8.0.5)\n",
            "Requirement already satisfied: packaging>=20.0 in /usr/local/lib/python3.7/dist-packages (from spacy<3.1.0,>=3.0.0->en-core-web-md==3.0.0) (20.9)\n",
            "Requirement already satisfied: pydantic<1.8.0,>=1.7.1 in /usr/local/lib/python3.7/dist-packages (from spacy<3.1.0,>=3.0.0->en-core-web-md==3.0.0) (1.7.4)\n",
            "Requirement already satisfied: spacy-legacy<3.1.0,>=3.0.4 in /usr/local/lib/python3.7/dist-packages (from spacy<3.1.0,>=3.0.0->en-core-web-md==3.0.0) (3.0.6)\n",
            "Requirement already satisfied: cymem<2.1.0,>=2.0.2 in /usr/local/lib/python3.7/dist-packages (from spacy<3.1.0,>=3.0.0->en-core-web-md==3.0.0) (2.0.5)\n",
            "Requirement already satisfied: typer<0.4.0,>=0.3.0 in /usr/local/lib/python3.7/dist-packages (from spacy<3.1.0,>=3.0.0->en-core-web-md==3.0.0) (0.3.2)\n",
            "Requirement already satisfied: jinja2 in /usr/local/lib/python3.7/dist-packages (from spacy<3.1.0,>=3.0.0->en-core-web-md==3.0.0) (2.11.3)\n",
            "Requirement already satisfied: srsly<3.0.0,>=2.4.1 in /usr/local/lib/python3.7/dist-packages (from spacy<3.1.0,>=3.0.0->en-core-web-md==3.0.0) (2.4.1)\n",
            "Requirement already satisfied: requests<3.0.0,>=2.13.0 in /usr/local/lib/python3.7/dist-packages (from spacy<3.1.0,>=3.0.0->en-core-web-md==3.0.0) (2.23.0)\n",
            "Requirement already satisfied: catalogue<2.1.0,>=2.0.3 in /usr/local/lib/python3.7/dist-packages (from spacy<3.1.0,>=3.0.0->en-core-web-md==3.0.0) (2.0.4)\n",
            "Requirement already satisfied: murmurhash<1.1.0,>=0.28.0 in /usr/local/lib/python3.7/dist-packages (from spacy<3.1.0,>=3.0.0->en-core-web-md==3.0.0) (1.0.5)\n",
            "Requirement already satisfied: setuptools in /usr/local/lib/python3.7/dist-packages (from spacy<3.1.0,>=3.0.0->en-core-web-md==3.0.0) (57.0.0)\n",
            "Requirement already satisfied: pathy>=0.3.5 in /usr/local/lib/python3.7/dist-packages (from spacy<3.1.0,>=3.0.0->en-core-web-md==3.0.0) (0.5.2)\n",
            "Requirement already satisfied: blis<0.8.0,>=0.4.0 in /usr/local/lib/python3.7/dist-packages (from spacy<3.1.0,>=3.0.0->en-core-web-md==3.0.0) (0.4.1)\n",
            "Requirement already satisfied: wasabi<1.1.0,>=0.8.1 in /usr/local/lib/python3.7/dist-packages (from spacy<3.1.0,>=3.0.0->en-core-web-md==3.0.0) (0.8.2)\n",
            "Requirement already satisfied: tqdm<5.0.0,>=4.38.0 in /usr/local/lib/python3.7/dist-packages (from spacy<3.1.0,>=3.0.0->en-core-web-md==3.0.0) (4.41.1)\n",
            "Requirement already satisfied: preshed<3.1.0,>=3.0.2 in /usr/local/lib/python3.7/dist-packages (from spacy<3.1.0,>=3.0.0->en-core-web-md==3.0.0) (3.0.5)\n",
            "Requirement already satisfied: numpy>=1.15.0 in /usr/local/lib/python3.7/dist-packages (from spacy<3.1.0,>=3.0.0->en-core-web-md==3.0.0) (1.19.5)\n",
            "Requirement already satisfied: typing-extensions<4.0.0.0,>=3.7.4; python_version < \"3.8\" in /usr/local/lib/python3.7/dist-packages (from spacy<3.1.0,>=3.0.0->en-core-web-md==3.0.0) (3.7.4.3)\n",
            "Requirement already satisfied: pyparsing>=2.0.2 in /usr/local/lib/python3.7/dist-packages (from packaging>=20.0->spacy<3.1.0,>=3.0.0->en-core-web-md==3.0.0) (2.4.7)\n",
            "Requirement already satisfied: click<7.2.0,>=7.1.1 in /usr/local/lib/python3.7/dist-packages (from typer<0.4.0,>=0.3.0->spacy<3.1.0,>=3.0.0->en-core-web-md==3.0.0) (7.1.2)\n",
            "Requirement already satisfied: MarkupSafe>=0.23 in /usr/local/lib/python3.7/dist-packages (from jinja2->spacy<3.1.0,>=3.0.0->en-core-web-md==3.0.0) (2.0.1)\n",
            "Requirement already satisfied: idna<3,>=2.5 in /usr/local/lib/python3.7/dist-packages (from requests<3.0.0,>=2.13.0->spacy<3.1.0,>=3.0.0->en-core-web-md==3.0.0) (2.10)\n",
            "Requirement already satisfied: certifi>=2017.4.17 in /usr/local/lib/python3.7/dist-packages (from requests<3.0.0,>=2.13.0->spacy<3.1.0,>=3.0.0->en-core-web-md==3.0.0) (2021.5.30)\n",
            "Requirement already satisfied: chardet<4,>=3.0.2 in /usr/local/lib/python3.7/dist-packages (from requests<3.0.0,>=2.13.0->spacy<3.1.0,>=3.0.0->en-core-web-md==3.0.0) (3.0.4)\n",
            "Requirement already satisfied: urllib3!=1.25.0,!=1.25.1,<1.26,>=1.21.1 in /usr/local/lib/python3.7/dist-packages (from requests<3.0.0,>=2.13.0->spacy<3.1.0,>=3.0.0->en-core-web-md==3.0.0) (1.24.3)\n",
            "Requirement already satisfied: zipp>=0.5; python_version < \"3.8\" in /usr/local/lib/python3.7/dist-packages (from catalogue<2.1.0,>=2.0.3->spacy<3.1.0,>=3.0.0->en-core-web-md==3.0.0) (3.4.1)\n",
            "Requirement already satisfied: smart-open<4.0.0,>=2.2.0 in /usr/local/lib/python3.7/dist-packages (from pathy>=0.3.5->spacy<3.1.0,>=3.0.0->en-core-web-md==3.0.0) (3.0.0)\n",
            "\u001b[38;5;2m✔ Download and installation successful\u001b[0m\n",
            "You can now load the package via spacy.load('en_core_web_md')\n",
            "Requirement already satisfied: sentence_transformers in /usr/local/lib/python3.7/dist-packages (1.2.0)\n",
            "Requirement already satisfied: transformers<5.0.0,>=3.1.0 in /usr/local/lib/python3.7/dist-packages (from sentence_transformers) (4.7.0)\n",
            "Requirement already satisfied: torchvision in /usr/local/lib/python3.7/dist-packages (from sentence_transformers) (0.10.0+cu102)\n",
            "Requirement already satisfied: scipy in /usr/local/lib/python3.7/dist-packages (from sentence_transformers) (1.4.1)\n",
            "Requirement already satisfied: sentencepiece in /usr/local/lib/python3.7/dist-packages (from sentence_transformers) (0.1.96)\n",
            "Requirement already satisfied: tqdm in /usr/local/lib/python3.7/dist-packages (from sentence_transformers) (4.41.1)\n",
            "Requirement already satisfied: nltk in /usr/local/lib/python3.7/dist-packages (from sentence_transformers) (3.2.5)\n",
            "Requirement already satisfied: numpy in /usr/local/lib/python3.7/dist-packages (from sentence_transformers) (1.19.5)\n",
            "Requirement already satisfied: scikit-learn in /usr/local/lib/python3.7/dist-packages (from sentence_transformers) (0.22.2.post1)\n",
            "Requirement already satisfied: torch>=1.6.0 in /usr/local/lib/python3.7/dist-packages (from sentence_transformers) (1.9.0+cu102)\n",
            "Requirement already satisfied: packaging in /usr/local/lib/python3.7/dist-packages (from transformers<5.0.0,>=3.1.0->sentence_transformers) (20.9)\n",
            "Requirement already satisfied: tokenizers<0.11,>=0.10.1 in /usr/local/lib/python3.7/dist-packages (from transformers<5.0.0,>=3.1.0->sentence_transformers) (0.10.3)\n",
            "Requirement already satisfied: filelock in /usr/local/lib/python3.7/dist-packages (from transformers<5.0.0,>=3.1.0->sentence_transformers) (3.0.12)\n",
            "Requirement already satisfied: sacremoses in /usr/local/lib/python3.7/dist-packages (from transformers<5.0.0,>=3.1.0->sentence_transformers) (0.0.45)\n",
            "Requirement already satisfied: importlib-metadata; python_version < \"3.8\" in /usr/local/lib/python3.7/dist-packages (from transformers<5.0.0,>=3.1.0->sentence_transformers) (4.5.0)\n",
            "Requirement already satisfied: pyyaml in /usr/local/lib/python3.7/dist-packages (from transformers<5.0.0,>=3.1.0->sentence_transformers) (3.13)\n",
            "Requirement already satisfied: regex!=2019.12.17 in /usr/local/lib/python3.7/dist-packages (from transformers<5.0.0,>=3.1.0->sentence_transformers) (2019.12.20)\n",
            "Requirement already satisfied: requests in /usr/local/lib/python3.7/dist-packages (from transformers<5.0.0,>=3.1.0->sentence_transformers) (2.23.0)\n",
            "Requirement already satisfied: huggingface-hub==0.0.8 in /usr/local/lib/python3.7/dist-packages (from transformers<5.0.0,>=3.1.0->sentence_transformers) (0.0.8)\n",
            "Requirement already satisfied: pillow>=5.3.0 in /usr/local/lib/python3.7/dist-packages (from torchvision->sentence_transformers) (7.1.2)\n",
            "Requirement already satisfied: six in /usr/local/lib/python3.7/dist-packages (from nltk->sentence_transformers) (1.15.0)\n",
            "Requirement already satisfied: joblib>=0.11 in /usr/local/lib/python3.7/dist-packages (from scikit-learn->sentence_transformers) (1.0.1)\n",
            "Requirement already satisfied: typing-extensions in /usr/local/lib/python3.7/dist-packages (from torch>=1.6.0->sentence_transformers) (3.7.4.3)\n",
            "Requirement already satisfied: pyparsing>=2.0.2 in /usr/local/lib/python3.7/dist-packages (from packaging->transformers<5.0.0,>=3.1.0->sentence_transformers) (2.4.7)\n",
            "Requirement already satisfied: click in /usr/local/lib/python3.7/dist-packages (from sacremoses->transformers<5.0.0,>=3.1.0->sentence_transformers) (7.1.2)\n",
            "Requirement already satisfied: zipp>=0.5 in /usr/local/lib/python3.7/dist-packages (from importlib-metadata; python_version < \"3.8\"->transformers<5.0.0,>=3.1.0->sentence_transformers) (3.4.1)\n",
            "Requirement already satisfied: urllib3!=1.25.0,!=1.25.1,<1.26,>=1.21.1 in /usr/local/lib/python3.7/dist-packages (from requests->transformers<5.0.0,>=3.1.0->sentence_transformers) (1.24.3)\n",
            "Requirement already satisfied: idna<3,>=2.5 in /usr/local/lib/python3.7/dist-packages (from requests->transformers<5.0.0,>=3.1.0->sentence_transformers) (2.10)\n",
            "Requirement already satisfied: certifi>=2017.4.17 in /usr/local/lib/python3.7/dist-packages (from requests->transformers<5.0.0,>=3.1.0->sentence_transformers) (2021.5.30)\n",
            "Requirement already satisfied: chardet<4,>=3.0.2 in /usr/local/lib/python3.7/dist-packages (from requests->transformers<5.0.0,>=3.1.0->sentence_transformers) (3.0.4)\n",
            "Collecting pyvis\n",
            "  Using cached https://files.pythonhosted.org/packages/07/d1/e87844ec86e96df7364f21af2263ad6030c0d727660ae89935c7af56a540/pyvis-0.1.9-py3-none-any.whl\n",
            "Requirement already satisfied: ipython>=5.3.0 in /usr/local/lib/python3.7/dist-packages (from pyvis) (5.5.0)\n",
            "Requirement already satisfied: jinja2>=2.9.6 in /usr/local/lib/python3.7/dist-packages (from pyvis) (2.11.3)\n",
            "Collecting jsonpickle>=1.4.1\n",
            "  Using cached https://files.pythonhosted.org/packages/bb/1a/f2db026d4d682303793559f1c2bb425ba3ec0d6fd7ac63397790443f2461/jsonpickle-2.0.0-py2.py3-none-any.whl\n",
            "Requirement already satisfied: networkx>=1.11 in /usr/local/lib/python3.7/dist-packages (from pyvis) (2.5.1)\n",
            "Requirement already satisfied: pickleshare in /usr/local/lib/python3.7/dist-packages (from ipython>=5.3.0->pyvis) (0.7.5)\n",
            "Requirement already satisfied: pygments in /usr/local/lib/python3.7/dist-packages (from ipython>=5.3.0->pyvis) (2.6.1)\n",
            "Requirement already satisfied: setuptools>=18.5 in /usr/local/lib/python3.7/dist-packages (from ipython>=5.3.0->pyvis) (57.0.0)\n",
            "Requirement already satisfied: prompt-toolkit<2.0.0,>=1.0.4 in /usr/local/lib/python3.7/dist-packages (from ipython>=5.3.0->pyvis) (1.0.18)\n",
            "Requirement already satisfied: simplegeneric>0.8 in /usr/local/lib/python3.7/dist-packages (from ipython>=5.3.0->pyvis) (0.8.1)\n",
            "Requirement already satisfied: traitlets>=4.2 in /usr/local/lib/python3.7/dist-packages (from ipython>=5.3.0->pyvis) (5.0.5)\n",
            "Requirement already satisfied: decorator in /usr/local/lib/python3.7/dist-packages (from ipython>=5.3.0->pyvis) (4.4.2)\n",
            "Requirement already satisfied: pexpect; sys_platform != \"win32\" in /usr/local/lib/python3.7/dist-packages (from ipython>=5.3.0->pyvis) (4.8.0)\n",
            "Requirement already satisfied: MarkupSafe>=0.23 in /usr/local/lib/python3.7/dist-packages (from jinja2>=2.9.6->pyvis) (2.0.1)\n",
            "Requirement already satisfied: importlib-metadata; python_version < \"3.8\" in /usr/local/lib/python3.7/dist-packages (from jsonpickle>=1.4.1->pyvis) (4.5.0)\n",
            "Requirement already satisfied: wcwidth in /usr/local/lib/python3.7/dist-packages (from prompt-toolkit<2.0.0,>=1.0.4->ipython>=5.3.0->pyvis) (0.2.5)\n",
            "Requirement already satisfied: six>=1.9.0 in /usr/local/lib/python3.7/dist-packages (from prompt-toolkit<2.0.0,>=1.0.4->ipython>=5.3.0->pyvis) (1.15.0)\n",
            "Requirement already satisfied: ipython-genutils in /usr/local/lib/python3.7/dist-packages (from traitlets>=4.2->ipython>=5.3.0->pyvis) (0.2.0)\n",
            "Requirement already satisfied: ptyprocess>=0.5 in /usr/local/lib/python3.7/dist-packages (from pexpect; sys_platform != \"win32\"->ipython>=5.3.0->pyvis) (0.7.0)\n",
            "Requirement already satisfied: zipp>=0.5 in /usr/local/lib/python3.7/dist-packages (from importlib-metadata; python_version < \"3.8\"->jsonpickle>=1.4.1->pyvis) (3.4.1)\n",
            "Requirement already satisfied: typing-extensions>=3.6.4; python_version < \"3.8\" in /usr/local/lib/python3.7/dist-packages (from importlib-metadata; python_version < \"3.8\"->jsonpickle>=1.4.1->pyvis) (3.7.4.3)\n",
            "Installing collected packages: jsonpickle, pyvis\n",
            "Successfully installed jsonpickle-2.0.0 pyvis-0.1.9\n",
            "Collecting keybert\n",
            "  Downloading https://files.pythonhosted.org/packages/db/fb/822e7094457cd16319291e34aa97b2ef97620da01af94fe557e96a8cc6b9/keybert-0.3.0.tar.gz\n",
            "Requirement already satisfied: sentence-transformers>=0.3.8 in /usr/local/lib/python3.7/dist-packages (from keybert) (1.2.0)\n",
            "Requirement already satisfied: scikit-learn>=0.22.2 in /usr/local/lib/python3.7/dist-packages (from keybert) (0.22.2.post1)\n",
            "Requirement already satisfied: numpy>=1.18.5 in /usr/local/lib/python3.7/dist-packages (from keybert) (1.19.5)\n",
            "Requirement already satisfied: tqdm in /usr/local/lib/python3.7/dist-packages (from sentence-transformers>=0.3.8->keybert) (4.41.1)\n",
            "Requirement already satisfied: torchvision in /usr/local/lib/python3.7/dist-packages (from sentence-transformers>=0.3.8->keybert) (0.10.0+cu102)\n",
            "Requirement already satisfied: transformers<5.0.0,>=3.1.0 in /usr/local/lib/python3.7/dist-packages (from sentence-transformers>=0.3.8->keybert) (4.7.0)\n",
            "Requirement already satisfied: nltk in /usr/local/lib/python3.7/dist-packages (from sentence-transformers>=0.3.8->keybert) (3.2.5)\n",
            "Requirement already satisfied: scipy in /usr/local/lib/python3.7/dist-packages (from sentence-transformers>=0.3.8->keybert) (1.4.1)\n",
            "Requirement already satisfied: torch>=1.6.0 in /usr/local/lib/python3.7/dist-packages (from sentence-transformers>=0.3.8->keybert) (1.9.0+cu102)\n",
            "Requirement already satisfied: sentencepiece in /usr/local/lib/python3.7/dist-packages (from sentence-transformers>=0.3.8->keybert) (0.1.96)\n",
            "Requirement already satisfied: joblib>=0.11 in /usr/local/lib/python3.7/dist-packages (from scikit-learn>=0.22.2->keybert) (1.0.1)\n",
            "Requirement already satisfied: pillow>=5.3.0 in /usr/local/lib/python3.7/dist-packages (from torchvision->sentence-transformers>=0.3.8->keybert) (7.1.2)\n",
            "Requirement already satisfied: huggingface-hub==0.0.8 in /usr/local/lib/python3.7/dist-packages (from transformers<5.0.0,>=3.1.0->sentence-transformers>=0.3.8->keybert) (0.0.8)\n",
            "Requirement already satisfied: importlib-metadata; python_version < \"3.8\" in /usr/local/lib/python3.7/dist-packages (from transformers<5.0.0,>=3.1.0->sentence-transformers>=0.3.8->keybert) (4.5.0)\n",
            "Requirement already satisfied: sacremoses in /usr/local/lib/python3.7/dist-packages (from transformers<5.0.0,>=3.1.0->sentence-transformers>=0.3.8->keybert) (0.0.45)\n",
            "Requirement already satisfied: pyyaml in /usr/local/lib/python3.7/dist-packages (from transformers<5.0.0,>=3.1.0->sentence-transformers>=0.3.8->keybert) (3.13)\n",
            "Requirement already satisfied: requests in /usr/local/lib/python3.7/dist-packages (from transformers<5.0.0,>=3.1.0->sentence-transformers>=0.3.8->keybert) (2.23.0)\n",
            "Requirement already satisfied: tokenizers<0.11,>=0.10.1 in /usr/local/lib/python3.7/dist-packages (from transformers<5.0.0,>=3.1.0->sentence-transformers>=0.3.8->keybert) (0.10.3)\n",
            "Requirement already satisfied: regex!=2019.12.17 in /usr/local/lib/python3.7/dist-packages (from transformers<5.0.0,>=3.1.0->sentence-transformers>=0.3.8->keybert) (2019.12.20)\n",
            "Requirement already satisfied: filelock in /usr/local/lib/python3.7/dist-packages (from transformers<5.0.0,>=3.1.0->sentence-transformers>=0.3.8->keybert) (3.0.12)\n",
            "Requirement already satisfied: packaging in /usr/local/lib/python3.7/dist-packages (from transformers<5.0.0,>=3.1.0->sentence-transformers>=0.3.8->keybert) (20.9)\n",
            "Requirement already satisfied: six in /usr/local/lib/python3.7/dist-packages (from nltk->sentence-transformers>=0.3.8->keybert) (1.15.0)\n",
            "Requirement already satisfied: typing-extensions in /usr/local/lib/python3.7/dist-packages (from torch>=1.6.0->sentence-transformers>=0.3.8->keybert) (3.7.4.3)\n",
            "Requirement already satisfied: zipp>=0.5 in /usr/local/lib/python3.7/dist-packages (from importlib-metadata; python_version < \"3.8\"->transformers<5.0.0,>=3.1.0->sentence-transformers>=0.3.8->keybert) (3.4.1)\n",
            "Requirement already satisfied: click in /usr/local/lib/python3.7/dist-packages (from sacremoses->transformers<5.0.0,>=3.1.0->sentence-transformers>=0.3.8->keybert) (7.1.2)\n",
            "Requirement already satisfied: urllib3!=1.25.0,!=1.25.1,<1.26,>=1.21.1 in /usr/local/lib/python3.7/dist-packages (from requests->transformers<5.0.0,>=3.1.0->sentence-transformers>=0.3.8->keybert) (1.24.3)\n",
            "Requirement already satisfied: idna<3,>=2.5 in /usr/local/lib/python3.7/dist-packages (from requests->transformers<5.0.0,>=3.1.0->sentence-transformers>=0.3.8->keybert) (2.10)\n",
            "Requirement already satisfied: certifi>=2017.4.17 in /usr/local/lib/python3.7/dist-packages (from requests->transformers<5.0.0,>=3.1.0->sentence-transformers>=0.3.8->keybert) (2021.5.30)\n",
            "Requirement already satisfied: chardet<4,>=3.0.2 in /usr/local/lib/python3.7/dist-packages (from requests->transformers<5.0.0,>=3.1.0->sentence-transformers>=0.3.8->keybert) (3.0.4)\n",
            "Requirement already satisfied: pyparsing>=2.0.2 in /usr/local/lib/python3.7/dist-packages (from packaging->transformers<5.0.0,>=3.1.0->sentence-transformers>=0.3.8->keybert) (2.4.7)\n",
            "Building wheels for collected packages: keybert\n",
            "  Building wheel for keybert (setup.py) ... \u001b[?25l\u001b[?25hdone\n",
            "  Created wheel for keybert: filename=keybert-0.3.0-cp37-none-any.whl size=19436 sha256=5ba3ce30d31c6e164f0911c1cc04fea3a48079c04a150803a36689a09e40a1ff\n",
            "  Stored in directory: /root/.cache/pip/wheels/0c/ab/2b/bc129895ee956866333f364f1b3beb20efa788e074c03e6b34\n",
            "Successfully built keybert\n",
            "Installing collected packages: keybert\n",
            "Successfully installed keybert-0.3.0\n"
          ],
          "name": "stdout"
        }
      ]
    },
    {
      "cell_type": "code",
      "metadata": {
        "id": "qhoceXpDvCS3",
        "colab": {
          "base_uri": "https://localhost:8080/"
        },
        "outputId": "7dfd6043-fa44-49c9-de2e-ceb77cef656d"
      },
      "source": [
        "import pandas as pd\n",
        "import numpy as np\n",
        "from nltk.corpus import stopwords\n",
        "import nltk\n",
        "nltk.download('stopwords')\n",
        "import re\n",
        "from sklearn.metrics.pairwise import cosine_similarity\n",
        "from sentence_transformers import SentenceTransformer\n",
        "from keybert import KeyBERT"
      ],
      "execution_count": 2,
      "outputs": [
        {
          "output_type": "stream",
          "text": [
            "[nltk_data] Downloading package stopwords to /root/nltk_data...\n",
            "[nltk_data]   Unzipping corpora/stopwords.zip.\n"
          ],
          "name": "stdout"
        }
      ]
    },
    {
      "cell_type": "code",
      "metadata": {
        "id": "c3K0bLuavMRl"
      },
      "source": [
        "# Sample corpus\n",
        "documents = [\"Insure parcel ,Clarify shipping method ,Write package label ,Request three offers ,select offer from logistic company,package goods,prepare picking up of goods,Ship goods,Special handling?,Insurance necessary?,shipment prepared,Logistics,Secretary,Warehouse\",\n",
        "             \"Package goods ,Determine shipping type ,Check if shipment is required ,Write package label ,Get quote company A ,Get quote company B ,Get quote company C ,Select shipping  ,company ,Take parcel insurance ,Pickup goods ,Customer order ,Shipment required ,no insurance ,special shipping ,normal post ,no shipment required ,insurance required ,Warehousemen ,Secretary ,Logistics department head ,Logistics company\"]"
      ],
      "execution_count": 3,
      "outputs": []
    },
    {
      "cell_type": "code",
      "metadata": {
        "id": "JAUUcROFvMl9"
      },
      "source": [
        "pd.set_option('display.max_colwidth', 0)\n",
        "pd.set_option('display.max_columns', 0)\n",
        "documents_df=pd.DataFrame(documents,columns=['documents'])"
      ],
      "execution_count": 4,
      "outputs": []
    },
    {
      "cell_type": "code",
      "metadata": {
        "id": "FJazLgjGvT-I"
      },
      "source": [
        "# removing special characters and stop words from the text\n",
        "stop_words_l=stopwords.words('english')\n",
        "documents_df['documents_cleaned']=documents_df.documents.apply(lambda x: \" \".join(re.sub(r'[^a-zA-Z]',' ',w).lower() for w in x.split() if re.sub(r'[^a-zA-Z]',' ',w).lower() not in stop_words_l and len(w) > 1) )"
      ],
      "execution_count": 5,
      "outputs": []
    },
    {
      "cell_type": "code",
      "metadata": {
        "colab": {
          "base_uri": "https://localhost:8080/",
          "height": 179
        },
        "id": "W6bYRSCHvZCw",
        "outputId": "379b281e-71b1-430d-a8f6-b72daa2fde95"
      },
      "source": [
        "documents_df"
      ],
      "execution_count": 6,
      "outputs": [
        {
          "output_type": "execute_result",
          "data": {
            "text/html": [
              "<div>\n",
              "<style scoped>\n",
              "    .dataframe tbody tr th:only-of-type {\n",
              "        vertical-align: middle;\n",
              "    }\n",
              "\n",
              "    .dataframe tbody tr th {\n",
              "        vertical-align: top;\n",
              "    }\n",
              "\n",
              "    .dataframe thead th {\n",
              "        text-align: right;\n",
              "    }\n",
              "</style>\n",
              "<table border=\"1\" class=\"dataframe\">\n",
              "  <thead>\n",
              "    <tr style=\"text-align: right;\">\n",
              "      <th></th>\n",
              "      <th>documents</th>\n",
              "      <th>documents_cleaned</th>\n",
              "    </tr>\n",
              "  </thead>\n",
              "  <tbody>\n",
              "    <tr>\n",
              "      <th>0</th>\n",
              "      <td>Insure parcel ,Clarify shipping method ,Write package label ,Request three offers ,select offer from logistic company,package goods,prepare picking up of goods,Ship goods,Special handling?,Insurance necessary?,shipment prepared,Logistics,Secretary,Warehouse</td>\n",
              "      <td>insure parcel  clarify shipping method  write package label  request three offers  select offer logistic company package goods prepare picking goods ship goods special handling  insurance necessary  shipment prepared logistics secretary warehouse</td>\n",
              "    </tr>\n",
              "    <tr>\n",
              "      <th>1</th>\n",
              "      <td>Package goods ,Determine shipping type ,Check if shipment is required ,Write package label ,Get quote company A ,Get quote company B ,Get quote company C ,Select shipping  ,company ,Take parcel insurance ,Pickup goods ,Customer order ,Shipment required ,no insurance ,special shipping ,normal post ,no shipment required ,insurance required ,Warehousemen ,Secretary ,Logistics department head ,Logistics company</td>\n",
              "      <td>package goods  determine shipping type  check shipment required  write package label  get quote company  get quote company  get quote company  select shipping  company  take parcel insurance  pickup goods  customer order  shipment required  no insurance  special shipping  normal post  no shipment required  insurance required  warehousemen  secretary  logistics department head  logistics company</td>\n",
              "    </tr>\n",
              "  </tbody>\n",
              "</table>\n",
              "</div>"
            ],
            "text/plain": [
              "                                                                                                                                                                                                                                                                                                                                                                                                                    documents                                                                                                                                                                                                                                                                                                                                                                                              documents_cleaned\n",
              "0  Insure parcel ,Clarify shipping method ,Write package label ,Request three offers ,select offer from logistic company,package goods,prepare picking up of goods,Ship goods,Special handling?,Insurance necessary?,shipment prepared,Logistics,Secretary,Warehouse                                                                                                                                                           insure parcel  clarify shipping method  write package label  request three offers  select offer logistic company package goods prepare picking goods ship goods special handling  insurance necessary  shipment prepared logistics secretary warehouse                                                                                                                                                       \n",
              "1  Package goods ,Determine shipping type ,Check if shipment is required ,Write package label ,Get quote company A ,Get quote company B ,Get quote company C ,Select shipping  ,company ,Take parcel insurance ,Pickup goods ,Customer order ,Shipment required ,no insurance ,special shipping ,normal post ,no shipment required ,insurance required ,Warehousemen ,Secretary ,Logistics department head ,Logistics company  package goods  determine shipping type  check shipment required  write package label  get quote company  get quote company  get quote company  select shipping  company  take parcel insurance  pickup goods  customer order  shipment required  no insurance  special shipping  normal post  no shipment required  insurance required  warehousemen  secretary  logistics department head  logistics company"
            ]
          },
          "metadata": {
            "tags": []
          },
          "execution_count": 6
        }
      ]
    },
    {
      "cell_type": "code",
      "metadata": {
        "id": "EzUvDdk3wCk-",
        "colab": {
          "base_uri": "https://localhost:8080/",
          "height": 66,
          "referenced_widgets": [
            "a46f43d5bfa24366884995f9e94b3d54",
            "ae88a95f43c7475bb38ffedce4cf3921",
            "a59344f9b94844889a19badbc770c389",
            "7b26a1dd5c9f42d2ba20db976f8cdf88",
            "e3834ad425a942bca7dce47da358a8c1",
            "f2f73204e4bd4fcbb2669e6fc42ebaaf",
            "bae44198a7884f2bb6a806f9b163e5a4",
            "90905343cde642559bf15191200bc4f0"
          ]
        },
        "outputId": "bab96c76-051c-4262-b05d-2be7e10f9d81"
      },
      "source": [
        "bert_model = SentenceTransformer('paraphrase-mpnet-base-v2')"
      ],
      "execution_count": 7,
      "outputs": [
        {
          "output_type": "display_data",
          "data": {
            "application/vnd.jupyter.widget-view+json": {
              "model_id": "a46f43d5bfa24366884995f9e94b3d54",
              "version_minor": 0,
              "version_major": 2
            },
            "text/plain": [
              "HBox(children=(FloatProgress(value=0.0, max=405057617.0), HTML(value='')))"
            ]
          },
          "metadata": {
            "tags": []
          }
        },
        {
          "output_type": "stream",
          "text": [
            "\n"
          ],
          "name": "stdout"
        }
      ]
    },
    {
      "cell_type": "code",
      "metadata": {
        "id": "MO_JBxas3PL8"
      },
      "source": [
        "import spacy\n",
        "import en_core_web_md\n",
        "nlp = en_core_web_md.load()"
      ],
      "execution_count": 8,
      "outputs": []
    },
    {
      "cell_type": "code",
      "metadata": {
        "id": "2FMLI7knwWgE"
      },
      "source": [
        "new_concepts = documents_df.documents[0].split(',')\n",
        "existing_concepts = documents_df.documents[1].split(',')"
      ],
      "execution_count": 9,
      "outputs": []
    },
    {
      "cell_type": "code",
      "metadata": {
        "id": "KrzD2Bse3q5G"
      },
      "source": [
        "def extract_noun_chunks(concepts):\n",
        "  spacy_lst = []\n",
        "  for element in concepts:\n",
        "      element = \" \".join([w.lower() for w in element.split()])\n",
        "      doc = nlp(element)\n",
        "      if len(list(doc.noun_chunks)) >0 :\n",
        "          for chunk in doc.noun_chunks:\n",
        "              #print(element,\"--\",chunk.text) if len(chunk.text.split()) > 1 else print(\"POSSIBLE ERROR!\",element,\"--\",chunk.text)\n",
        "              spacy_lst.append(chunk.text)\n",
        "      else:\n",
        "          #print(\"ERROR!\",pos_tag(word_tokenize(element)))\n",
        "          spacy_lst.append(element)\n",
        "  return list(set(spacy_lst))"
      ],
      "execution_count": 10,
      "outputs": []
    },
    {
      "cell_type": "code",
      "metadata": {
        "colab": {
          "base_uri": "https://localhost:8080/"
        },
        "id": "RKAOkfqy3yod",
        "outputId": "1fa376aa-3646-460d-96b9-8fe9f7bb74f0"
      },
      "source": [
        "new_concept_chunks = extract_noun_chunks(new_concepts)  \n",
        "new_concept_chunks"
      ],
      "execution_count": 11,
      "outputs": [
        {
          "output_type": "execute_result",
          "data": {
            "text/plain": [
              "['three offers',\n",
              " 'goods',\n",
              " 'special handling',\n",
              " 'warehouse',\n",
              " 'shipping method',\n",
              " 'insurance',\n",
              " 'package goods',\n",
              " 'select offer',\n",
              " 'parcel',\n",
              " 'logistics',\n",
              " 'logistic company',\n",
              " 'ship goods',\n",
              " 'package label',\n",
              " 'secretary',\n",
              " 'shipment']"
            ]
          },
          "metadata": {
            "tags": []
          },
          "execution_count": 11
        }
      ]
    },
    {
      "cell_type": "code",
      "metadata": {
        "colab": {
          "base_uri": "https://localhost:8080/"
        },
        "id": "s8YTf68Q3-kK",
        "outputId": "0d113790-821a-4b19-be01-148c9b3adee9"
      },
      "source": [
        "existing_concept_chunks = extract_noun_chunks(existing_concepts)\n",
        "existing_concept_chunks"
      ],
      "execution_count": 12,
      "outputs": [
        {
          "output_type": "execute_result",
          "data": {
            "text/plain": [
              "['warehousemen',\n",
              " 'package label',\n",
              " 'secretary',\n",
              " 'special shipping',\n",
              " 'select shipping',\n",
              " 'quote company',\n",
              " 'package goods',\n",
              " 'customer order',\n",
              " 'no insurance',\n",
              " 'logistics company',\n",
              " 'company',\n",
              " 'parcel insurance',\n",
              " 'b',\n",
              " 'insurance',\n",
              " 'shipping type',\n",
              " 'logistics department head',\n",
              " 'no shipment',\n",
              " 'normal post',\n",
              " 'pickup goods',\n",
              " 'shipment']"
            ]
          },
          "metadata": {
            "tags": []
          },
          "execution_count": 12
        }
      ]
    },
    {
      "cell_type": "code",
      "metadata": {
        "id": "xg6ggWC6pMHP"
      },
      "source": [
        "#Get rid of concepts that contains another concepts in them and detect relationships.\n",
        "def len_func(e):\n",
        "  return len(e.split())\n",
        "def substr_op(concepts):\n",
        "  lst_substr = []\n",
        "  dict_related = {}\n",
        "  lst_extr = []\n",
        "  concepts.sort(key=len_func, reverse=False)\n",
        "  for idx in range(len(concepts)):\n",
        "    element = concepts[idx]\n",
        "    for idy in range(len(concepts)):  \n",
        "      element_2 = concepts[idy]\n",
        "      if idx != idy:\n",
        "        if len(element.split()) > 1:\n",
        "          if len(set(element.split()).intersection(set(element_2.split()))) > 1:\n",
        "            #print(idx,idy,element, element_2.split())\n",
        "            if element not in lst_substr:\n",
        "                lst_substr.append(element_2)\n",
        "                dict_related.setdefault(element,[]).append(element_2)\n",
        "                #print(\"Related to\",element, \"-->\", element_2) \n",
        "        else:\n",
        "          if len(set(element.split()).intersection(set(element_2.split()))) > 0:\n",
        "            #print(\"#Related to\",element, \"-->\", element_2)\n",
        "            dict_related.setdefault(element,[]).append(element_2)\n",
        "            lst_extr.append(element_2)\n",
        "  for i in lst_extr:\n",
        "    lst_substr.append(i)\n",
        "  for k in dict_related.keys():\n",
        "    lst_substr.remove(k) if k in lst_substr else 1\n",
        "  return list(set(concepts) - set(lst_substr)), dict_related"
      ],
      "execution_count": 13,
      "outputs": []
    },
    {
      "cell_type": "code",
      "metadata": {
        "colab": {
          "base_uri": "https://localhost:8080/"
        },
        "id": "obf7uq9ZsFXX",
        "outputId": "29001fa7-bae4-4203-faf0-84180da53002"
      },
      "source": [
        "result = substr_op(existing_concept_chunks)\n",
        "existing_concept_chunks = result[0]\n",
        "\n",
        "print(existing_concept_chunks)\n",
        "result[1]"
      ],
      "execution_count": 14,
      "outputs": [
        {
          "output_type": "stream",
          "text": [
            "['warehousemen', 'company', 'select shipping', 'insurance', 'b', 'shipping type', 'package goods', 'logistics department head', 'customer order', 'normal post', 'pickup goods', 'package label', 'secretary', 'special shipping', 'shipment']\n"
          ],
          "name": "stdout"
        },
        {
          "output_type": "execute_result",
          "data": {
            "text/plain": [
              "{'company': ['quote company', 'logistics company'],\n",
              " 'insurance': ['no insurance', 'parcel insurance'],\n",
              " 'shipment': ['no shipment']}"
            ]
          },
          "metadata": {
            "tags": []
          },
          "execution_count": 14
        }
      ]
    },
    {
      "cell_type": "code",
      "metadata": {
        "colab": {
          "base_uri": "https://localhost:8080/"
        },
        "id": "9aMEh4wysJ-E",
        "outputId": "71626320-b45e-4fdd-bb71-ec615255bea1"
      },
      "source": [
        "result_2  =substr_op(new_concept_chunks)\n",
        "new_concept_chunks = result_2[0]\n",
        "\n",
        "print(new_concept_chunks)\n",
        "result_2[1]"
      ],
      "execution_count": 15,
      "outputs": [
        {
          "output_type": "stream",
          "text": [
            "['goods', 'three offers', 'warehouse', 'special handling', 'insurance', 'shipping method', 'select offer', 'logistics', 'parcel', 'logistic company', 'package label', 'secretary', 'shipment']\n"
          ],
          "name": "stdout"
        },
        {
          "output_type": "execute_result",
          "data": {
            "text/plain": [
              "{'goods': ['package goods', 'ship goods']}"
            ]
          },
          "metadata": {
            "tags": []
          },
          "execution_count": 15
        }
      ]
    },
    {
      "cell_type": "code",
      "metadata": {
        "colab": {
          "base_uri": "https://localhost:8080/"
        },
        "id": "KAo0_hX8Q5T5",
        "outputId": "aea9e824-006d-45cb-a78b-50cdafcd137d"
      },
      "source": [
        "#Exact string match and not an element in dictionary keys\n",
        "matching_concepts = [el for el in list(set(existing_concept_chunks).intersection(set(new_concept_chunks))) if el not in result_2[1].keys() and el not in result[1].keys()]\n",
        "matching_concepts"
      ],
      "execution_count": 16,
      "outputs": [
        {
          "output_type": "execute_result",
          "data": {
            "text/plain": [
              "['package label', 'secretary']"
            ]
          },
          "metadata": {
            "tags": []
          },
          "execution_count": 16
        }
      ]
    },
    {
      "cell_type": "code",
      "metadata": {
        "colab": {
          "base_uri": "https://localhost:8080/"
        },
        "id": "yfR6W7NIRUsN",
        "outputId": "3f6854aa-2690-45f5-eba5-06eec599b9e1"
      },
      "source": [
        "#Exact string match but contains noun in dictionary keys for further investigation.\n",
        "matching_but_different_concepts = [el for el in list(set(existing_concept_chunks).intersection(set(new_concept_chunks))) if el in result_2[1].keys() or el in result[1].keys()]\n",
        "matching_but_different_concepts"
      ],
      "execution_count": 17,
      "outputs": [
        {
          "output_type": "execute_result",
          "data": {
            "text/plain": [
              "['shipment', 'insurance']"
            ]
          },
          "metadata": {
            "tags": []
          },
          "execution_count": 17
        }
      ]
    },
    {
      "cell_type": "code",
      "metadata": {
        "id": "XaHWEzlH_aqT",
        "colab": {
          "base_uri": "https://localhost:8080/"
        },
        "outputId": "b67cefda-fe02-49a7-8ecc-aab9614e4429"
      },
      "source": [
        "#Nouns that are different from new model UNION nouns with props.\n",
        "exact_missing_concepts = list((set(existing_concept_chunks) - set(new_concept_chunks)).union(set(result[1].keys())))\n",
        "exact_missing_concepts"
      ],
      "execution_count": 18,
      "outputs": [
        {
          "output_type": "execute_result",
          "data": {
            "text/plain": [
              "['warehousemen',\n",
              " 'company',\n",
              " 'select shipping',\n",
              " 'b',\n",
              " 'logistics department head',\n",
              " 'shipping type',\n",
              " 'package goods',\n",
              " 'insurance',\n",
              " 'customer order',\n",
              " 'normal post',\n",
              " 'pickup goods',\n",
              " 'special shipping',\n",
              " 'shipment']"
            ]
          },
          "metadata": {
            "tags": []
          },
          "execution_count": 18
        }
      ]
    },
    {
      "cell_type": "code",
      "metadata": {
        "id": "T6wfmA8kAfb9",
        "colab": {
          "base_uri": "https://localhost:8080/"
        },
        "outputId": "28782519-4ace-4ffa-dcde-08d8609081cd"
      },
      "source": [
        "#Nouns that are different from existing models UNION nouns with props.\n",
        "new_misaligned_concepts = list((set(new_concept_chunks) - set(existing_concept_chunks)).union(set(result_2[1].keys())))\n",
        "new_misaligned_concepts"
      ],
      "execution_count": 19,
      "outputs": [
        {
          "output_type": "execute_result",
          "data": {
            "text/plain": [
              "['special handling',\n",
              " 'three offers',\n",
              " 'goods',\n",
              " 'warehouse',\n",
              " 'shipping method',\n",
              " 'select offer',\n",
              " 'logistics',\n",
              " 'parcel',\n",
              " 'logistic company']"
            ]
          },
          "metadata": {
            "tags": []
          },
          "execution_count": 19
        }
      ]
    },
    {
      "cell_type": "code",
      "metadata": {
        "colab": {
          "base_uri": "https://localhost:8080/"
        },
        "id": "IKLidxZt47ip",
        "outputId": "6d0574ae-04eb-4ef5-d4a0-80f76faf75cf"
      },
      "source": [
        "#Candidates\n",
        "candidate_concepts = list(set(exact_missing_concepts).union(set(new_misaligned_concepts)))\n",
        "candidate_concepts"
      ],
      "execution_count": 20,
      "outputs": [
        {
          "output_type": "execute_result",
          "data": {
            "text/plain": [
              "['warehousemen',\n",
              " 'company',\n",
              " 'special handling',\n",
              " 'goods',\n",
              " 'shipping method',\n",
              " 'select offer',\n",
              " 'parcel',\n",
              " 'special shipping',\n",
              " 'three offers',\n",
              " 'select shipping',\n",
              " 'warehouse',\n",
              " 'logistics department head',\n",
              " 'b',\n",
              " 'shipping type',\n",
              " 'package goods',\n",
              " 'insurance',\n",
              " 'logistics',\n",
              " 'customer order',\n",
              " 'logistic company',\n",
              " 'normal post',\n",
              " 'pickup goods',\n",
              " 'shipment']"
            ]
          },
          "metadata": {
            "tags": []
          },
          "execution_count": 20
        }
      ]
    },
    {
      "cell_type": "code",
      "metadata": {
        "id": "5nzQ1AC55Poc"
      },
      "source": [
        "props = {}\n",
        "covered_concepts = []\n",
        "different_concepts = []\n",
        "for c in candidate_concepts:\n",
        "  if c in list(result[1].keys()) and c in list(result_2[1].keys()):\n",
        "    if len(set(result[1].get(c)).union(set(result_2[1].get(c))) - set(result[1].get(c)).intersection(set(result_2[1].get(c)))) != 0 :\n",
        "      props.setdefault(c,[]).extend(list(set(result[1].get(c)).intersection(set(result_2[1].get(c)))))\n",
        "    covered_concepts.append(c)\n",
        "  else:\n",
        "    different_concepts.append(c)\n",
        "    props.setdefault(c,[]).extend(list(set(result[1].get(c,[])).union(set(result_2[1].get(c,[]))) - set(result[1].get(c,[])).intersection(set(result_2[1].get(c,[])))))\n",
        "\n",
        "b4 = different_concepts\n",
        "different_concepts, dict_props = substr_op(different_concepts)\n",
        "after = different_concepts\n",
        "\n",
        "for k,v in dict_props.items():\n",
        "  tmp = list(set(props.get(k,[])+ v))\n",
        "  props[k] = tmp\n",
        "\n",
        "for k in list(set(b4)-set(after)):\n",
        "  \"\"\"for v in props.values():\n",
        "    if k in v:\n",
        "      v.remove(k)\"\"\"\n",
        "  props.pop(k)"
      ],
      "execution_count": 21,
      "outputs": []
    },
    {
      "cell_type": "code",
      "metadata": {
        "colab": {
          "base_uri": "https://localhost:8080/"
        },
        "id": "lVW5CoDu5uqG",
        "outputId": "cfd7b8f5-f3d0-43a6-9a7b-127928cbb81d"
      },
      "source": [
        "#Concepts that are fully covered.\n",
        "covered_concepts"
      ],
      "execution_count": 22,
      "outputs": [
        {
          "output_type": "execute_result",
          "data": {
            "text/plain": [
              "[]"
            ]
          },
          "metadata": {
            "tags": []
          },
          "execution_count": 22
        }
      ]
    },
    {
      "cell_type": "code",
      "metadata": {
        "colab": {
          "base_uri": "https://localhost:8080/"
        },
        "id": "5QiDxpGi-jw3",
        "outputId": "e4629e3b-7485-4bd9-bebd-e1d14269f8e8"
      },
      "source": [
        "different_concepts"
      ],
      "execution_count": 23,
      "outputs": [
        {
          "output_type": "execute_result",
          "data": {
            "text/plain": [
              "['warehousemen',\n",
              " 'goods',\n",
              " 'company',\n",
              " 'special handling',\n",
              " 'shipping method',\n",
              " 'select offer',\n",
              " 'parcel',\n",
              " 'special shipping',\n",
              " 'three offers',\n",
              " 'select shipping',\n",
              " 'warehouse',\n",
              " 'b',\n",
              " 'insurance',\n",
              " 'shipping type',\n",
              " 'logistics',\n",
              " 'customer order',\n",
              " 'normal post',\n",
              " 'shipment']"
            ]
          },
          "metadata": {
            "tags": []
          },
          "execution_count": 23
        }
      ]
    },
    {
      "cell_type": "code",
      "metadata": {
        "colab": {
          "base_uri": "https://localhost:8080/"
        },
        "id": "nFgx1jMCP537",
        "outputId": "2257e102-ad39-4eb8-fd90-2e47e60aad4d"
      },
      "source": [
        "#Concepts that have covered with differences.\n",
        "matching_but_different_concepts = [x for x in matching_but_different_concepts if x not in covered_concepts]\n",
        "matching_but_different_concepts"
      ],
      "execution_count": 24,
      "outputs": [
        {
          "output_type": "execute_result",
          "data": {
            "text/plain": [
              "['shipment', 'insurance']"
            ]
          },
          "metadata": {
            "tags": []
          },
          "execution_count": 24
        }
      ]
    },
    {
      "cell_type": "code",
      "metadata": {
        "colab": {
          "base_uri": "https://localhost:8080/"
        },
        "id": "Ht1Su4Q8QdEX",
        "outputId": "b2dc3006-d090-46c6-e06b-2261f880a5d3"
      },
      "source": [
        "#Concepts that are exist in domain but not in new model.\n",
        "unseen_concepts = [x for x in different_concepts if x not in matching_but_different_concepts]\n",
        "unseen_concepts"
      ],
      "execution_count": 25,
      "outputs": [
        {
          "output_type": "execute_result",
          "data": {
            "text/plain": [
              "['warehousemen',\n",
              " 'goods',\n",
              " 'company',\n",
              " 'special handling',\n",
              " 'shipping method',\n",
              " 'select offer',\n",
              " 'parcel',\n",
              " 'special shipping',\n",
              " 'three offers',\n",
              " 'select shipping',\n",
              " 'warehouse',\n",
              " 'b',\n",
              " 'shipping type',\n",
              " 'logistics',\n",
              " 'customer order',\n",
              " 'normal post']"
            ]
          },
          "metadata": {
            "tags": []
          },
          "execution_count": 25
        }
      ]
    },
    {
      "cell_type": "code",
      "metadata": {
        "colab": {
          "base_uri": "https://localhost:8080/"
        },
        "id": "pPIGE6j77lJb",
        "outputId": "9b14ee89-5700-49bc-b839-50c82b479f6b"
      },
      "source": [
        "props"
      ],
      "execution_count": 26,
      "outputs": [
        {
          "output_type": "execute_result",
          "data": {
            "text/plain": [
              "{'b': [],\n",
              " 'company': ['quote company', 'logistic company', 'logistics company'],\n",
              " 'customer order': [],\n",
              " 'goods': ['package goods', 'pickup goods', 'ship goods'],\n",
              " 'insurance': ['no insurance', 'parcel insurance'],\n",
              " 'logistics': ['logistics department head'],\n",
              " 'normal post': [],\n",
              " 'parcel': [],\n",
              " 'select offer': [],\n",
              " 'select shipping': [],\n",
              " 'shipment': ['no shipment'],\n",
              " 'shipping method': [],\n",
              " 'shipping type': [],\n",
              " 'special handling': [],\n",
              " 'special shipping': [],\n",
              " 'three offers': [],\n",
              " 'warehouse': [],\n",
              " 'warehousemen': []}"
            ]
          },
          "metadata": {
            "tags": []
          },
          "execution_count": 26
        }
      ]
    },
    {
      "cell_type": "code",
      "metadata": {
        "id": "cjSN3SDoSCLJ"
      },
      "source": [
        "document_embeddings = bert_model.encode(list(props.keys()))\n",
        "pairwise_similarities=cosine_similarity(document_embeddings)"
      ],
      "execution_count": 27,
      "outputs": []
    },
    {
      "cell_type": "code",
      "metadata": {
        "id": "CYnpFblxTcS3"
      },
      "source": [
        "props_new = {}\n",
        "threshold= 0.4\n",
        "\n",
        "kw_model = KeyBERT('paraphrase-mpnet-base-v2')\n",
        "for word in [w for w in unseen_concepts if len(props.get(w,[])) == 0]:\n",
        "  idx = list(props.keys()).index(word)\n",
        "  sim = -1\n",
        "  cls = \"\"\n",
        "  for i in range(pairwise_similarities.shape[1]):\n",
        "    if i != idx:\n",
        "      if sim < pairwise_similarities[idx,i] and pairwise_similarities[idx,i] > threshold:\n",
        "        sim = pairwise_similarities[idx,i]\n",
        "        cls = list(props.keys())[i]\n",
        "      #print(\"Similarity between\",list(props.keys())[idx],\"and\",list(props.keys())[i],\"-->\",pairwise_similarities[idx,i]) \n",
        "  #print(\"Similarity between\",word,\"and\",cls,\"-->\",sim) \n",
        "  if len(word.split()) >1 and len(cls.split())>1:\n",
        "    doc = \" \".join([word,cls])\n",
        "    keywords = kw_model.extract_keywords(doc,keyphrase_ngram_range=(1,1))\n",
        "    if len(keywords) > 0:\n",
        "      cls = keywords[0][0]\n",
        "\n",
        "  if word in props_new.keys() and cls in props_new.values():    \n",
        "    props_new.setdefault(word,[]).append(cls)\n",
        "  elif cls ==\"\":\n",
        "    props_new.setdefault(word,[]).append(cls) \n",
        "  else:\n",
        "    props_new.setdefault(cls,[]).append(word) "
      ],
      "execution_count": 28,
      "outputs": []
    },
    {
      "cell_type": "code",
      "metadata": {
        "id": "B89mjJa3QhVP",
        "colab": {
          "base_uri": "https://localhost:8080/"
        },
        "outputId": "166a843a-eb4c-46ea-8b90-3bb61556140d"
      },
      "source": [
        "props.update(props_new)\n",
        "for k in list(props.keys()):\n",
        "    if not props[k]:\n",
        "        del props[k]\n",
        "props"
      ],
      "execution_count": 29,
      "outputs": [
        {
          "output_type": "execute_result",
          "data": {
            "text/plain": [
              "{'b': [''],\n",
              " 'company': ['quote company', 'logistic company', 'logistics company'],\n",
              " 'goods': ['package goods', 'pickup goods', 'ship goods'],\n",
              " 'insurance': ['no insurance', 'parcel insurance'],\n",
              " 'logistics': ['logistics department head'],\n",
              " 'normal post': [''],\n",
              " 'offers': ['three offers'],\n",
              " 'shipment': ['parcel'],\n",
              " 'shipping': ['special handling',\n",
              "  'shipping method',\n",
              "  'select offer',\n",
              "  'special shipping',\n",
              "  'select shipping',\n",
              "  'shipping type',\n",
              "  'customer order'],\n",
              " 'warehouse': ['warehousemen'],\n",
              " 'warehousemen': ['warehouse']}"
            ]
          },
          "metadata": {
            "tags": []
          },
          "execution_count": 29
        }
      ]
    },
    {
      "cell_type": "code",
      "metadata": {
        "id": "SUUvvRWMI7u1"
      },
      "source": [
        "import networkx as nx\n",
        "d = []\n",
        "elements =  [props.items()]\n",
        "colors = [\"blue\", \"red\"] #red not in existing models, blues are present in existing models\n",
        "for i in range(len(elements)):\n",
        "  for k,v in elements[i]:\n",
        "    if len(v[0]) > 0:\n",
        "      for el in v:\n",
        "        d.append({\"source\": k, \"target\" : el,\"type\":\"Undirected\", \"weight\" : 1, \"color\": colors[i]})\n",
        "    else:\n",
        "        d.append({\"source\": k, \"target\" : k,\"type\":\"Undirected\", \"weight\" : 1, \"color\": \"red\"})\n",
        "df = pd.DataFrame(d)\n",
        "G = nx.from_pandas_edgelist(df,source=\"source\", target = \"target\", edge_attr = True)"
      ],
      "execution_count": 30,
      "outputs": []
    },
    {
      "cell_type": "code",
      "metadata": {
        "colab": {
          "base_uri": "https://localhost:8080/",
          "height": 731
        },
        "id": "sT-9spgyL9WQ",
        "outputId": "6861fead-4598-4179-cb65-3b3d78e68445"
      },
      "source": [
        "df"
      ],
      "execution_count": 33,
      "outputs": [
        {
          "output_type": "execute_result",
          "data": {
            "text/html": [
              "<div>\n",
              "<style scoped>\n",
              "    .dataframe tbody tr th:only-of-type {\n",
              "        vertical-align: middle;\n",
              "    }\n",
              "\n",
              "    .dataframe tbody tr th {\n",
              "        vertical-align: top;\n",
              "    }\n",
              "\n",
              "    .dataframe thead th {\n",
              "        text-align: right;\n",
              "    }\n",
              "</style>\n",
              "<table border=\"1\" class=\"dataframe\">\n",
              "  <thead>\n",
              "    <tr style=\"text-align: right;\">\n",
              "      <th></th>\n",
              "      <th>source</th>\n",
              "      <th>target</th>\n",
              "      <th>type</th>\n",
              "      <th>weight</th>\n",
              "      <th>color</th>\n",
              "    </tr>\n",
              "  </thead>\n",
              "  <tbody>\n",
              "    <tr>\n",
              "      <th>0</th>\n",
              "      <td>warehousemen</td>\n",
              "      <td>warehouse</td>\n",
              "      <td>Undirected</td>\n",
              "      <td>1</td>\n",
              "      <td>blue</td>\n",
              "    </tr>\n",
              "    <tr>\n",
              "      <th>1</th>\n",
              "      <td>company</td>\n",
              "      <td>quote company</td>\n",
              "      <td>Undirected</td>\n",
              "      <td>1</td>\n",
              "      <td>blue</td>\n",
              "    </tr>\n",
              "    <tr>\n",
              "      <th>2</th>\n",
              "      <td>company</td>\n",
              "      <td>logistic company</td>\n",
              "      <td>Undirected</td>\n",
              "      <td>1</td>\n",
              "      <td>blue</td>\n",
              "    </tr>\n",
              "    <tr>\n",
              "      <th>3</th>\n",
              "      <td>company</td>\n",
              "      <td>logistics company</td>\n",
              "      <td>Undirected</td>\n",
              "      <td>1</td>\n",
              "      <td>blue</td>\n",
              "    </tr>\n",
              "    <tr>\n",
              "      <th>4</th>\n",
              "      <td>goods</td>\n",
              "      <td>package goods</td>\n",
              "      <td>Undirected</td>\n",
              "      <td>1</td>\n",
              "      <td>blue</td>\n",
              "    </tr>\n",
              "    <tr>\n",
              "      <th>5</th>\n",
              "      <td>goods</td>\n",
              "      <td>pickup goods</td>\n",
              "      <td>Undirected</td>\n",
              "      <td>1</td>\n",
              "      <td>blue</td>\n",
              "    </tr>\n",
              "    <tr>\n",
              "      <th>6</th>\n",
              "      <td>goods</td>\n",
              "      <td>ship goods</td>\n",
              "      <td>Undirected</td>\n",
              "      <td>1</td>\n",
              "      <td>blue</td>\n",
              "    </tr>\n",
              "    <tr>\n",
              "      <th>7</th>\n",
              "      <td>warehouse</td>\n",
              "      <td>warehousemen</td>\n",
              "      <td>Undirected</td>\n",
              "      <td>1</td>\n",
              "      <td>blue</td>\n",
              "    </tr>\n",
              "    <tr>\n",
              "      <th>8</th>\n",
              "      <td>b</td>\n",
              "      <td>b</td>\n",
              "      <td>Undirected</td>\n",
              "      <td>1</td>\n",
              "      <td>red</td>\n",
              "    </tr>\n",
              "    <tr>\n",
              "      <th>9</th>\n",
              "      <td>insurance</td>\n",
              "      <td>no insurance</td>\n",
              "      <td>Undirected</td>\n",
              "      <td>1</td>\n",
              "      <td>blue</td>\n",
              "    </tr>\n",
              "    <tr>\n",
              "      <th>10</th>\n",
              "      <td>insurance</td>\n",
              "      <td>parcel insurance</td>\n",
              "      <td>Undirected</td>\n",
              "      <td>1</td>\n",
              "      <td>blue</td>\n",
              "    </tr>\n",
              "    <tr>\n",
              "      <th>11</th>\n",
              "      <td>logistics</td>\n",
              "      <td>logistics department head</td>\n",
              "      <td>Undirected</td>\n",
              "      <td>1</td>\n",
              "      <td>blue</td>\n",
              "    </tr>\n",
              "    <tr>\n",
              "      <th>12</th>\n",
              "      <td>normal post</td>\n",
              "      <td>normal post</td>\n",
              "      <td>Undirected</td>\n",
              "      <td>1</td>\n",
              "      <td>red</td>\n",
              "    </tr>\n",
              "    <tr>\n",
              "      <th>13</th>\n",
              "      <td>shipment</td>\n",
              "      <td>parcel</td>\n",
              "      <td>Undirected</td>\n",
              "      <td>1</td>\n",
              "      <td>blue</td>\n",
              "    </tr>\n",
              "    <tr>\n",
              "      <th>14</th>\n",
              "      <td>shipping</td>\n",
              "      <td>special handling</td>\n",
              "      <td>Undirected</td>\n",
              "      <td>1</td>\n",
              "      <td>blue</td>\n",
              "    </tr>\n",
              "    <tr>\n",
              "      <th>15</th>\n",
              "      <td>shipping</td>\n",
              "      <td>shipping method</td>\n",
              "      <td>Undirected</td>\n",
              "      <td>1</td>\n",
              "      <td>blue</td>\n",
              "    </tr>\n",
              "    <tr>\n",
              "      <th>16</th>\n",
              "      <td>shipping</td>\n",
              "      <td>select offer</td>\n",
              "      <td>Undirected</td>\n",
              "      <td>1</td>\n",
              "      <td>blue</td>\n",
              "    </tr>\n",
              "    <tr>\n",
              "      <th>17</th>\n",
              "      <td>shipping</td>\n",
              "      <td>special shipping</td>\n",
              "      <td>Undirected</td>\n",
              "      <td>1</td>\n",
              "      <td>blue</td>\n",
              "    </tr>\n",
              "    <tr>\n",
              "      <th>18</th>\n",
              "      <td>shipping</td>\n",
              "      <td>select shipping</td>\n",
              "      <td>Undirected</td>\n",
              "      <td>1</td>\n",
              "      <td>blue</td>\n",
              "    </tr>\n",
              "    <tr>\n",
              "      <th>19</th>\n",
              "      <td>shipping</td>\n",
              "      <td>shipping type</td>\n",
              "      <td>Undirected</td>\n",
              "      <td>1</td>\n",
              "      <td>blue</td>\n",
              "    </tr>\n",
              "    <tr>\n",
              "      <th>20</th>\n",
              "      <td>shipping</td>\n",
              "      <td>customer order</td>\n",
              "      <td>Undirected</td>\n",
              "      <td>1</td>\n",
              "      <td>blue</td>\n",
              "    </tr>\n",
              "    <tr>\n",
              "      <th>21</th>\n",
              "      <td>offers</td>\n",
              "      <td>three offers</td>\n",
              "      <td>Undirected</td>\n",
              "      <td>1</td>\n",
              "      <td>blue</td>\n",
              "    </tr>\n",
              "  </tbody>\n",
              "</table>\n",
              "</div>"
            ],
            "text/plain": [
              "          source                     target        type  weight color\n",
              "0   warehousemen  warehouse                  Undirected  1       blue\n",
              "1   company       quote company              Undirected  1       blue\n",
              "2   company       logistic company           Undirected  1       blue\n",
              "3   company       logistics company          Undirected  1       blue\n",
              "4   goods         package goods              Undirected  1       blue\n",
              "5   goods         pickup goods               Undirected  1       blue\n",
              "6   goods         ship goods                 Undirected  1       blue\n",
              "7   warehouse     warehousemen               Undirected  1       blue\n",
              "8   b             b                          Undirected  1       red \n",
              "9   insurance     no insurance               Undirected  1       blue\n",
              "10  insurance     parcel insurance           Undirected  1       blue\n",
              "11  logistics     logistics department head  Undirected  1       blue\n",
              "12  normal post   normal post                Undirected  1       red \n",
              "13  shipment      parcel                     Undirected  1       blue\n",
              "14  shipping      special handling           Undirected  1       blue\n",
              "15  shipping      shipping method            Undirected  1       blue\n",
              "16  shipping      select offer               Undirected  1       blue\n",
              "17  shipping      special shipping           Undirected  1       blue\n",
              "18  shipping      select shipping            Undirected  1       blue\n",
              "19  shipping      shipping type              Undirected  1       blue\n",
              "20  shipping      customer order             Undirected  1       blue\n",
              "21  offers        three offers               Undirected  1       blue"
            ]
          },
          "metadata": {
            "tags": []
          },
          "execution_count": 33
        }
      ]
    },
    {
      "cell_type": "code",
      "metadata": {
        "colab": {
          "base_uri": "https://localhost:8080/",
          "height": 538
        },
        "id": "STLG3RGsHzXF",
        "outputId": "13bfbe42-d527-4364-da7c-d65ea157475c"
      },
      "source": [
        "import pyvis\n",
        "import IPython\n",
        "from pyvis.network import Network\n",
        "\n",
        "net = Network(notebook=True)\n",
        "net.from_nx(G)\n",
        "net.save_graph(\"graph.html\")\n",
        "IPython.display.HTML(filename=\"graph.html\")"
      ],
      "execution_count": 32,
      "outputs": [
        {
          "output_type": "execute_result",
          "data": {
            "text/html": [
              "<html>\n",
              "<head>\n",
              "<link rel=\"stylesheet\" href=\"https://cdnjs.cloudflare.com/ajax/libs/vis/4.16.1/vis.css\" type=\"text/css\" />\n",
              "<script type=\"text/javascript\" src=\"https://cdnjs.cloudflare.com/ajax/libs/vis/4.16.1/vis-network.min.js\"> </script>\n",
              "<center>\n",
              "<h1></h1>\n",
              "</center>\n",
              "\n",
              "<!-- <link rel=\"stylesheet\" href=\"../node_modules/vis/dist/vis.min.css\" type=\"text/css\" />\n",
              "<script type=\"text/javascript\" src=\"../node_modules/vis/dist/vis.js\"> </script>-->\n",
              "\n",
              "<style type=\"text/css\">\n",
              "\n",
              "        #mynetwork {\n",
              "            width: 500px;\n",
              "            height: 500px;\n",
              "            background-color: #ffffff;\n",
              "            border: 1px solid lightgray;\n",
              "            position: relative;\n",
              "            float: left;\n",
              "        }\n",
              "\n",
              "        \n",
              "\n",
              "        \n",
              "\n",
              "        \n",
              "</style>\n",
              "\n",
              "</head>\n",
              "\n",
              "<body>\n",
              "<div id = \"mynetwork\"></div>\n",
              "\n",
              "\n",
              "<script type=\"text/javascript\">\n",
              "\n",
              "    // initialize global variables.\n",
              "    var edges;\n",
              "    var nodes;\n",
              "    var network; \n",
              "    var container;\n",
              "    var options, data;\n",
              "\n",
              "    \n",
              "    // This method is responsible for drawing the graph, returns the drawn network\n",
              "    function drawGraph() {\n",
              "        var container = document.getElementById('mynetwork');\n",
              "        \n",
              "        \n",
              "\n",
              "        // parsing and collecting nodes and edges from the python\n",
              "        nodes = new vis.DataSet([{\"id\": \"warehousemen\", \"label\": \"warehousemen\", \"shape\": \"dot\", \"size\": 10}, {\"id\": \"warehouse\", \"label\": \"warehouse\", \"shape\": \"dot\", \"size\": 10}, {\"id\": \"company\", \"label\": \"company\", \"shape\": \"dot\", \"size\": 10}, {\"id\": \"quote company\", \"label\": \"quote company\", \"shape\": \"dot\", \"size\": 10}, {\"id\": \"logistic company\", \"label\": \"logistic company\", \"shape\": \"dot\", \"size\": 10}, {\"id\": \"logistics company\", \"label\": \"logistics company\", \"shape\": \"dot\", \"size\": 10}, {\"id\": \"goods\", \"label\": \"goods\", \"shape\": \"dot\", \"size\": 10}, {\"id\": \"package goods\", \"label\": \"package goods\", \"shape\": \"dot\", \"size\": 10}, {\"id\": \"pickup goods\", \"label\": \"pickup goods\", \"shape\": \"dot\", \"size\": 10}, {\"id\": \"ship goods\", \"label\": \"ship goods\", \"shape\": \"dot\", \"size\": 10}, {\"id\": \"b\", \"label\": \"b\", \"shape\": \"dot\", \"size\": 10}, {\"id\": \"insurance\", \"label\": \"insurance\", \"shape\": \"dot\", \"size\": 10}, {\"id\": \"no insurance\", \"label\": \"no insurance\", \"shape\": \"dot\", \"size\": 10}, {\"id\": \"parcel insurance\", \"label\": \"parcel insurance\", \"shape\": \"dot\", \"size\": 10}, {\"id\": \"logistics\", \"label\": \"logistics\", \"shape\": \"dot\", \"size\": 10}, {\"id\": \"logistics department head\", \"label\": \"logistics department head\", \"shape\": \"dot\", \"size\": 10}, {\"id\": \"normal post\", \"label\": \"normal post\", \"shape\": \"dot\", \"size\": 10}, {\"id\": \"shipment\", \"label\": \"shipment\", \"shape\": \"dot\", \"size\": 10}, {\"id\": \"parcel\", \"label\": \"parcel\", \"shape\": \"dot\", \"size\": 10}, {\"id\": \"shipping\", \"label\": \"shipping\", \"shape\": \"dot\", \"size\": 10}, {\"id\": \"special handling\", \"label\": \"special handling\", \"shape\": \"dot\", \"size\": 10}, {\"id\": \"shipping method\", \"label\": \"shipping method\", \"shape\": \"dot\", \"size\": 10}, {\"id\": \"select offer\", \"label\": \"select offer\", \"shape\": \"dot\", \"size\": 10}, {\"id\": \"special shipping\", \"label\": \"special shipping\", \"shape\": \"dot\", \"size\": 10}, {\"id\": \"select shipping\", \"label\": \"select shipping\", \"shape\": \"dot\", \"size\": 10}, {\"id\": \"shipping type\", \"label\": \"shipping type\", \"shape\": \"dot\", \"size\": 10}, {\"id\": \"customer order\", \"label\": \"customer order\", \"shape\": \"dot\", \"size\": 10}, {\"id\": \"offers\", \"label\": \"offers\", \"shape\": \"dot\", \"size\": 10}, {\"id\": \"three offers\", \"label\": \"three offers\", \"shape\": \"dot\", \"size\": 10}]);\n",
              "        edges = new vis.DataSet([{\"color\": \"blue\", \"from\": \"warehousemen\", \"to\": \"warehouse\", \"type\": \"Undirected\", \"weight\": 1}, {\"color\": \"blue\", \"from\": \"company\", \"to\": \"quote company\", \"type\": \"Undirected\", \"weight\": 1}, {\"color\": \"blue\", \"from\": \"company\", \"to\": \"logistic company\", \"type\": \"Undirected\", \"weight\": 1}, {\"color\": \"blue\", \"from\": \"company\", \"to\": \"logistics company\", \"type\": \"Undirected\", \"weight\": 1}, {\"color\": \"blue\", \"from\": \"goods\", \"to\": \"package goods\", \"type\": \"Undirected\", \"weight\": 1}, {\"color\": \"blue\", \"from\": \"goods\", \"to\": \"pickup goods\", \"type\": \"Undirected\", \"weight\": 1}, {\"color\": \"blue\", \"from\": \"goods\", \"to\": \"ship goods\", \"type\": \"Undirected\", \"weight\": 1}, {\"color\": \"red\", \"from\": \"b\", \"to\": \"b\", \"type\": \"Undirected\", \"weight\": 1}, {\"color\": \"blue\", \"from\": \"insurance\", \"to\": \"no insurance\", \"type\": \"Undirected\", \"weight\": 1}, {\"color\": \"blue\", \"from\": \"insurance\", \"to\": \"parcel insurance\", \"type\": \"Undirected\", \"weight\": 1}, {\"color\": \"blue\", \"from\": \"logistics\", \"to\": \"logistics department head\", \"type\": \"Undirected\", \"weight\": 1}, {\"color\": \"red\", \"from\": \"normal post\", \"to\": \"normal post\", \"type\": \"Undirected\", \"weight\": 1}, {\"color\": \"blue\", \"from\": \"shipment\", \"to\": \"parcel\", \"type\": \"Undirected\", \"weight\": 1}, {\"color\": \"blue\", \"from\": \"shipping\", \"to\": \"special handling\", \"type\": \"Undirected\", \"weight\": 1}, {\"color\": \"blue\", \"from\": \"shipping\", \"to\": \"shipping method\", \"type\": \"Undirected\", \"weight\": 1}, {\"color\": \"blue\", \"from\": \"shipping\", \"to\": \"select offer\", \"type\": \"Undirected\", \"weight\": 1}, {\"color\": \"blue\", \"from\": \"shipping\", \"to\": \"special shipping\", \"type\": \"Undirected\", \"weight\": 1}, {\"color\": \"blue\", \"from\": \"shipping\", \"to\": \"select shipping\", \"type\": \"Undirected\", \"weight\": 1}, {\"color\": \"blue\", \"from\": \"shipping\", \"to\": \"shipping type\", \"type\": \"Undirected\", \"weight\": 1}, {\"color\": \"blue\", \"from\": \"shipping\", \"to\": \"customer order\", \"type\": \"Undirected\", \"weight\": 1}, {\"color\": \"blue\", \"from\": \"offers\", \"to\": \"three offers\", \"type\": \"Undirected\", \"weight\": 1}]);\n",
              "\n",
              "        // adding nodes and edges to the graph\n",
              "        data = {nodes: nodes, edges: edges};\n",
              "\n",
              "        var options = {\n",
              "    \"configure\": {\n",
              "        \"enabled\": false\n",
              "    },\n",
              "    \"edges\": {\n",
              "        \"color\": {\n",
              "            \"inherit\": true\n",
              "        },\n",
              "        \"smooth\": {\n",
              "            \"enabled\": false,\n",
              "            \"type\": \"continuous\"\n",
              "        }\n",
              "    },\n",
              "    \"interaction\": {\n",
              "        \"dragNodes\": true,\n",
              "        \"hideEdgesOnDrag\": false,\n",
              "        \"hideNodesOnDrag\": false\n",
              "    },\n",
              "    \"physics\": {\n",
              "        \"enabled\": true,\n",
              "        \"stabilization\": {\n",
              "            \"enabled\": true,\n",
              "            \"fit\": true,\n",
              "            \"iterations\": 1000,\n",
              "            \"onlyDynamicEdges\": false,\n",
              "            \"updateInterval\": 50\n",
              "        }\n",
              "    }\n",
              "};\n",
              "        \n",
              "        \n",
              "\n",
              "        \n",
              "\n",
              "        network = new vis.Network(container, data, options);\n",
              "\t \n",
              "        \n",
              "\n",
              "\n",
              "        \n",
              "\n",
              "        return network;\n",
              "\n",
              "    }\n",
              "\n",
              "    drawGraph();\n",
              "\n",
              "</script>\n",
              "</body>\n",
              "</html>"
            ],
            "text/plain": [
              "<IPython.core.display.HTML object>"
            ]
          },
          "metadata": {
            "tags": []
          },
          "execution_count": 32
        }
      ]
    }
  ]
}